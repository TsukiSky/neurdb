{
 "cells": [
  {
   "cell_type": "markdown",
   "id": "3af557477cc9cd57",
   "metadata": {
    "collapsed": false,
    "jupyter": {
     "outputs_hidden": false
    }
   },
   "source": [
    "# Model Serialization Demo\n",
    "\n",
    "This notebook demonstrates API usage of the storage manager."
   ]
  },
  {
   "cell_type": "code",
   "execution_count": 3,
   "id": "33d16f95-428a-41cb-a843-fc294410d097",
   "metadata": {},
   "outputs": [],
   "source": [
    "%load_ext autoreload\n",
    "%autoreload 2"
   ]
  },
  {
   "cell_type": "code",
   "execution_count": 4,
   "id": "e5cfe15e-6294-46c8-8149-cbf1f6309c1b",
   "metadata": {},
   "outputs": [],
   "source": [
    "import sys\n",
    "import os\n",
    "\n",
    "extra_path = os.path.join(os.getcwd(), \"..\")\n",
    "if extra_path not in sys.path:\n",
    "    sys.path.append(extra_path)"
   ]
  },
  {
   "cell_type": "code",
   "execution_count": 5,
   "id": "cb8c5098f140a993",
   "metadata": {
    "ExecuteTime": {
     "end_time": "2024-07-02T13:11:18.703598Z",
     "start_time": "2024-07-02T13:11:18.688210100Z"
    },
    "collapsed": false,
    "jupyter": {
     "outputs_hidden": false
    }
   },
   "outputs": [],
   "source": [
    "import torch.nn as nn"
   ]
  },
  {
   "cell_type": "code",
   "execution_count": 6,
   "id": "91b4e2a174acac1c",
   "metadata": {
    "ExecuteTime": {
     "end_time": "2024-07-02T13:11:19.007287700Z",
     "start_time": "2024-07-02T13:11:18.991491300Z"
    },
    "collapsed": false,
    "jupyter": {
     "outputs_hidden": false
    }
   },
   "outputs": [],
   "source": [
    "# import APIs\n",
    "from storage_manager.utils import ModelSerializer"
   ]
  },
  {
   "cell_type": "code",
   "execution_count": 7,
   "id": "32c1c9989f6b8ea3",
   "metadata": {
    "ExecuteTime": {
     "end_time": "2024-07-02T13:11:19.370821400Z",
     "start_time": "2024-07-02T13:11:19.339548100Z"
    },
    "collapsed": false,
    "jupyter": {
     "outputs_hidden": false
    }
   },
   "outputs": [],
   "source": [
    "# create a model\n",
    "\"\"\"\n",
    "This model has two linear layers, each followed by a ReLU activation function.\n",
    "\"\"\"\n",
    "class DemoModel(nn.Module):\n",
    "    def __init__(self):\n",
    "        super(DemoModel, self).__init__()\n",
    "        self.fc1 = nn.Linear(10, 6)\n",
    "        self.fc2 = nn.Linear(6, 3)\n",
    "        self.relu = nn.ReLU()\n",
    "    def forward(self, x):\n",
    "        x = self.fc1(x)\n",
    "        x = self.relu(x)\n",
    "        x = self.fc2(x)\n",
    "        x = self.relu(x)\n",
    "        return x"
   ]
  },
  {
   "cell_type": "code",
   "execution_count": 8,
   "id": "b6b29723f333e71b",
   "metadata": {
    "ExecuteTime": {
     "end_time": "2024-07-02T13:11:20.765033Z",
     "start_time": "2024-07-02T13:11:20.749377300Z"
    },
    "collapsed": false,
    "jupyter": {
     "outputs_hidden": false
    }
   },
   "outputs": [
    {
     "name": "stdout",
     "output_type": "stream",
     "text": [
      "DemoModel(\n",
      "  (fc1): Linear(in_features=10, out_features=6, bias=True)\n",
      "  (fc2): Linear(in_features=6, out_features=3, bias=True)\n",
      "  (relu): ReLU()\n",
      ")\n"
     ]
    },
    {
     "name": "stderr",
     "output_type": "stream",
     "text": [
      "/home/haotian/anaconda3/envs/neurdb/lib/python3.8/site-packages/torch/nn/init.py:459: UserWarning: Failed to initialize NumPy: numpy.core.multiarray failed to import (Triggered internally at ../torch/csrc/utils/tensor_numpy.cpp:84.)\n",
      "  return tensor.uniform_(-bound, bound, generator=generator)\n"
     ]
    }
   ],
   "source": [
    "demo_model = DemoModel()\n",
    "print(demo_model)"
   ]
  },
  {
   "cell_type": "code",
   "execution_count": 9,
   "id": "1f2005e2a19651bd",
   "metadata": {
    "ExecuteTime": {
     "end_time": "2024-07-02T13:11:22.775703800Z",
     "start_time": "2024-07-02T13:11:22.713175900Z"
    },
    "collapsed": false,
    "jupyter": {
     "outputs_hidden": false
    }
   },
   "outputs": [
    {
     "name": "stdout",
     "output_type": "stream",
     "text": [
      "<storage_manager.common.storage.ModelStorage.Pickled object at 0x7f1630556070>\n"
     ]
    }
   ],
   "source": [
    "# to serialize the model:\n",
    "serialized_model = ModelSerializer.serialize_model(demo_model)\n",
    "print(serialized_model)"
   ]
  },
  {
   "cell_type": "markdown",
   "id": "a5c8d375adaf7bba",
   "metadata": {
    "collapsed": false,
    "jupyter": {
     "outputs_hidden": false
    }
   },
   "source": [
    "ModelStorage.Picked class contains two attributes:\n",
    "\n",
    "1. model_meta_pickled: The model's architecture and parameters used to create the model. For example, values of in_features, and out_features of the linear layers. They are pickled and stored in bytes.\n",
    "2. layer_sequence_pickled: The sequence of layers in the model. They are pickled and stored in a list of bytes."
   ]
  },
  {
   "cell_type": "code",
   "execution_count": 10,
   "id": "a1e8b5363e5c1194",
   "metadata": {
    "ExecuteTime": {
     "end_time": "2024-07-02T13:11:26.003878500Z",
     "start_time": "2024-07-02T13:11:25.988357400Z"
    },
    "collapsed": false,
    "jupyter": {
     "outputs_hidden": false
    }
   },
   "outputs": [
    {
     "name": "stdout",
     "output_type": "stream",
     "text": [
      "DemoModel(\n",
      "  (fc1): Linear(in_features=10, out_features=6, bias=True)\n",
      "  (fc2): Linear(in_features=6, out_features=3, bias=True)\n",
      "  (relu): ReLU()\n",
      ")\n"
     ]
    }
   ],
   "source": [
    "# to deserialize the model:\n",
    "deserialized_model = ModelSerializer.deserialize_model(serialized_model)\n",
    "print(deserialized_model)"
   ]
  },
  {
   "cell_type": "code",
   "execution_count": null,
   "id": "656ce05cb735698",
   "metadata": {
    "collapsed": false,
    "jupyter": {
     "outputs_hidden": false
    }
   },
   "outputs": [],
   "source": []
  }
 ],
 "metadata": {
  "kernelspec": {
   "display_name": "Python 3 (ipykernel)",
   "language": "python",
   "name": "python3"
  },
  "language_info": {
   "codemirror_mode": {
    "name": "ipython",
    "version": 3
   },
   "file_extension": ".py",
   "mimetype": "text/x-python",
   "name": "python",
   "nbconvert_exporter": "python",
   "pygments_lexer": "ipython3",
   "version": "3.8.19"
  }
 },
 "nbformat": 4,
 "nbformat_minor": 5
}
