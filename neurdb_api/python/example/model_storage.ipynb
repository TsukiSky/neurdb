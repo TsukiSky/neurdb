{
 "cells": [
  {
   "cell_type": "markdown",
   "id": "8f9637e0b8eea5ce",
   "metadata": {},
   "source": [
    "# Model Storage Demo\n",
    "\n",
    "This notebook demonstrates API usage of the storage manager."
   ]
  },
  {
   "cell_type": "code",
   "execution_count": 1,
   "id": "c3c2007e-a890-4844-a964-01e387f925c7",
   "metadata": {},
   "outputs": [],
   "source": [
    "%load_ext autoreload\n",
    "%autoreload 2"
   ]
  },
  {
   "cell_type": "code",
   "execution_count": 2,
   "id": "ca7b71f7-c8c4-4ee4-9e49-7dbe7af5e350",
   "metadata": {},
   "outputs": [],
   "source": [
    "import sys\n",
    "import os\n",
    "\n",
    "extra_path = os.path.join(os.getcwd(), \"..\")\n",
    "if extra_path not in sys.path:\n",
    "    sys.path.append(extra_path)"
   ]
  },
  {
   "cell_type": "code",
   "execution_count": 3,
   "id": "initial_id",
   "metadata": {
    "ExecuteTime": {
     "end_time": "2024-07-03T13:29:30.686869Z",
     "start_time": "2024-07-03T13:29:29.937963Z"
    }
   },
   "outputs": [],
   "source": [
    "import torch.nn as nn"
   ]
  },
  {
   "cell_type": "code",
   "execution_count": 5,
   "id": "88d93bb34c2e07fc",
   "metadata": {
    "ExecuteTime": {
     "end_time": "2024-07-03T13:29:30.699306Z",
     "start_time": "2024-07-03T13:29:30.687857Z"
    }
   },
   "outputs": [],
   "source": [
    "# import APIs\n",
    "from storage_manager.utils import ModelSerializer\n",
    "from storage_manager.sql import NeurDB"
   ]
  },
  {
   "cell_type": "code",
   "execution_count": 6,
   "id": "b1b6ecf3647b12b6",
   "metadata": {
    "ExecuteTime": {
     "end_time": "2024-07-03T13:29:30.702382Z",
     "start_time": "2024-07-03T13:29:30.699950Z"
    }
   },
   "outputs": [],
   "source": [
    "# create a model\n",
    "\"\"\"\n",
    "This model has two linear layers, each followed by a ReLU activation function.\n",
    "\"\"\"\n",
    "class DemoModel(nn.Module):\n",
    "    def __init__(self):\n",
    "        super(DemoModel, self).__init__()\n",
    "        self.fc1 = nn.Linear(10, 6)\n",
    "        self.fc2 = nn.Linear(6, 3)\n",
    "        self.relu = nn.ReLU()\n",
    "    def forward(self, x):\n",
    "        x = self.fc1(x)\n",
    "        x = self.relu(x)\n",
    "        x = self.fc2(x)\n",
    "        x = self.relu(x)\n",
    "        return x"
   ]
  },
  {
   "cell_type": "code",
   "execution_count": 7,
   "id": "7032e98ce6d46665",
   "metadata": {
    "ExecuteTime": {
     "end_time": "2024-07-03T13:29:30.706908Z",
     "start_time": "2024-07-03T13:29:30.703677Z"
    }
   },
   "outputs": [
    {
     "name": "stdout",
     "output_type": "stream",
     "text": [
      "DemoModel(\n",
      "  (fc1): Linear(in_features=10, out_features=6, bias=True)\n",
      "  (fc2): Linear(in_features=6, out_features=3, bias=True)\n",
      "  (relu): ReLU()\n",
      ")\n"
     ]
    },
    {
     "name": "stderr",
     "output_type": "stream",
     "text": [
      "/home/haotian/anaconda3/envs/neurdb/lib/python3.8/site-packages/torch/nn/init.py:459: UserWarning: Failed to initialize NumPy: numpy.core.multiarray failed to import (Triggered internally at ../torch/csrc/utils/tensor_numpy.cpp:84.)\n",
      "  return tensor.uniform_(-bound, bound, generator=generator)\n"
     ]
    }
   ],
   "source": [
    "demo_model = DemoModel()\n",
    "print(demo_model)"
   ]
  },
  {
   "cell_type": "code",
   "execution_count": 8,
   "id": "115450b78ab21b84",
   "metadata": {
    "ExecuteTime": {
     "end_time": "2024-07-03T13:29:31.270225Z",
     "start_time": "2024-07-03T13:29:31.266855Z"
    }
   },
   "outputs": [
    {
     "name": "stdout",
     "output_type": "stream",
     "text": [
      "<storage_manager.common.storage.ModelStorage.Pickled object at 0x7f579b8c05b0>\n"
     ]
    }
   ],
   "source": [
    "# to serialize the model:\n",
    "serialized_model = ModelSerializer.serialize_model(demo_model)\n",
    "print(serialized_model)"
   ]
  },
  {
   "cell_type": "code",
   "execution_count": 11,
   "id": "7cc60e6bdc05eaa2",
   "metadata": {
    "ExecuteTime": {
     "end_time": "2024-07-03T13:29:31.690528Z",
     "start_time": "2024-07-03T13:29:31.684975Z"
    }
   },
   "outputs": [],
   "source": [
    "# to connect to the database:\n",
    "connection = {\n",
    "    \"db_name\": \"postgres\",\n",
    "    \"user\": \"postgres\",\n",
    "    \"host\": \"localhost\",\n",
    "    \"port\": \"5432\",\n",
    "}\n",
    "database = NeurDB(\n",
    "    db_name=connection[\"db_name\"], \n",
    "    db_user=connection[\"user\"], \n",
    "    db_host=connection[\"host\"], \n",
    "    db_port=connection[\"port\"]\n",
    ")"
   ]
  },
  {
   "cell_type": "markdown",
   "id": "fc8b4b5614958bfb",
   "metadata": {},
   "source": [
    "A connection to the database has been established once the `NeurDB` object is created."
   ]
  },
  {
   "cell_type": "code",
   "execution_count": 12,
   "id": "96e965cece3689ad",
   "metadata": {
    "ExecuteTime": {
     "end_time": "2024-07-03T13:29:32.414148Z",
     "start_time": "2024-07-03T13:29:32.403315Z"
    }
   },
   "outputs": [],
   "source": [
    "# save the serialized model to the database in layer-by-layer format\n",
    "model_id = database.save_model(serialized_model)"
   ]
  },
  {
   "cell_type": "code",
   "execution_count": 13,
   "id": "e261eb165cf67559",
   "metadata": {
    "ExecuteTime": {
     "end_time": "2024-07-03T13:29:33.020231Z",
     "start_time": "2024-07-03T13:29:33.012636Z"
    }
   },
   "outputs": [
    {
     "name": "stdout",
     "output_type": "stream",
     "text": [
      "DemoModel(\n",
      "  (fc1): Linear(in_features=10, out_features=6, bias=True)\n",
      "  (fc2): Linear(in_features=6, out_features=3, bias=True)\n",
      "  (relu): ReLU()\n",
      ")\n"
     ]
    }
   ],
   "source": [
    "# load, unpack, and convert the model to a nn.Module object\n",
    "model = database.load_model(model_id).unpack().to_model()\n",
    "print(model)"
   ]
  },
  {
   "cell_type": "code",
   "execution_count": 9,
   "id": "274837295200c3fa",
   "metadata": {
    "ExecuteTime": {
     "end_time": "2024-07-03T13:29:33.472573Z",
     "start_time": "2024-07-03T13:29:33.466672Z"
    }
   },
   "outputs": [],
   "source": [
    "# to delete the model from the database\n",
    "database.delete_model(model_id)"
   ]
  },
  {
   "cell_type": "code",
   "execution_count": null,
   "id": "e2b4652632f46df8",
   "metadata": {},
   "outputs": [],
   "source": []
  }
 ],
 "metadata": {
  "kernelspec": {
   "display_name": "Python 3 (ipykernel)",
   "language": "python",
   "name": "python3"
  },
  "language_info": {
   "codemirror_mode": {
    "name": "ipython",
    "version": 3
   },
   "file_extension": ".py",
   "mimetype": "text/x-python",
   "name": "python",
   "nbconvert_exporter": "python",
   "pygments_lexer": "ipython3",
   "version": "3.8.19"
  }
 },
 "nbformat": 4,
 "nbformat_minor": 5
}
